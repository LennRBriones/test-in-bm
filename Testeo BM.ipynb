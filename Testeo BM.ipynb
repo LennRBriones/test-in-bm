{
 "cells": [
  {
   "cell_type": "code",
   "execution_count": 8,
   "metadata": {
    "id": "YkkavPNyrvNW"
   },
   "outputs": [],
   "source": [
    "import numpy as np\n",
    "import pandas as pd"
   ]
  },
  {
   "cell_type": "code",
   "execution_count": 9,
   "metadata": {
    "id": "GjILt1OZrvNX"
   },
   "outputs": [],
   "source": [
    "bm = pd.read_csv(\"bm-data.csv\")"
   ]
  },
  {
   "cell_type": "markdown",
   "metadata": {
    "id": "Krmz7UT-rvNX"
   },
   "source": [
    "¿Cuántos registros tiene el archivo?"
   ]
  },
  {
   "cell_type": "code",
   "execution_count": 10,
   "metadata": {
    "colab": {
     "base_uri": "https://localhost:8080/"
    },
    "id": "3WmfcoAHrvNY",
    "outputId": "1a6aea6d-b8f1-401c-84e7-9f7c7e4742a9"
   },
   "outputs": [
    {
     "data": {
      "text/plain": [
       "(150666, 9)"
      ]
     },
     "execution_count": 10,
     "metadata": {},
     "output_type": "execute_result"
    }
   ],
   "source": [
    "bm.shape"
   ]
  },
  {
   "cell_type": "code",
   "execution_count": 14,
   "metadata": {
    "colab": {
     "base_uri": "https://localhost:8080/",
     "height": 444
    },
    "id": "X-l4z2HkrvNZ",
    "outputId": "86804811-dd35-41f7-bd6c-6608f87d2a0c"
   },
   "outputs": [
    {
     "data": {
      "text/html": [
       "<div>\n",
       "<style scoped>\n",
       "    .dataframe tbody tr th:only-of-type {\n",
       "        vertical-align: middle;\n",
       "    }\n",
       "\n",
       "    .dataframe tbody tr th {\n",
       "        vertical-align: top;\n",
       "    }\n",
       "\n",
       "    .dataframe thead th {\n",
       "        text-align: right;\n",
       "    }\n",
       "</style>\n",
       "<table border=\"1\" class=\"dataframe\">\n",
       "  <thead>\n",
       "    <tr style=\"text-align: right;\">\n",
       "      <th></th>\n",
       "      <th>fecha</th>\n",
       "      <th>evento</th>\n",
       "      <th>correo</th>\n",
       "      <th>tipo_de_pago</th>\n",
       "      <th>subtotal</th>\n",
       "      <th>total</th>\n",
       "      <th>aprobada</th>\n",
       "      <th>reembolsada</th>\n",
       "      <th>compra</th>\n",
       "    </tr>\n",
       "  </thead>\n",
       "  <tbody>\n",
       "    <tr>\n",
       "      <th>0</th>\n",
       "      <td>30/09/2022 23:59</td>\n",
       "      <td>León vs Tijuana (2x1)</td>\n",
       "      <td>mike_leon19@hotmail.com</td>\n",
       "      <td>openpay-api</td>\n",
       "      <td>$200.00</td>\n",
       "      <td>$234.00</td>\n",
       "      <td>Rechazada</td>\n",
       "      <td>NO</td>\n",
       "      <td>NaN</td>\n",
       "    </tr>\n",
       "    <tr>\n",
       "      <th>1</th>\n",
       "      <td>30/09/2022 23:59</td>\n",
       "      <td>León vs Tijuana (2x1)</td>\n",
       "      <td>mike_leon19@hotmail.com</td>\n",
       "      <td>openpay-api</td>\n",
       "      <td>$200.00</td>\n",
       "      <td>$234.00</td>\n",
       "      <td>Rechazada</td>\n",
       "      <td>NO</td>\n",
       "      <td>NaN</td>\n",
       "    </tr>\n",
       "    <tr>\n",
       "      <th>2</th>\n",
       "      <td>30/09/2022 23:59</td>\n",
       "      <td>León vs Tijuana (2x1)</td>\n",
       "      <td>mike_leon19@hotmail.com</td>\n",
       "      <td>openpay-api</td>\n",
       "      <td>$200.00</td>\n",
       "      <td>$234.00</td>\n",
       "      <td>Rechazada</td>\n",
       "      <td>NO</td>\n",
       "      <td>NaN</td>\n",
       "    </tr>\n",
       "    <tr>\n",
       "      <th>3</th>\n",
       "      <td>30/09/2022 23:58</td>\n",
       "      <td>León vs Tijuana (2x1)</td>\n",
       "      <td>castroaxl@icloud.com</td>\n",
       "      <td>paypal-api</td>\n",
       "      <td>$400.00</td>\n",
       "      <td>$464.00</td>\n",
       "      <td>Aprobada</td>\n",
       "      <td>NO</td>\n",
       "      <td>5025570.0</td>\n",
       "    </tr>\n",
       "    <tr>\n",
       "      <th>4</th>\n",
       "      <td>30/09/2022 23:56</td>\n",
       "      <td>Jose Luis Zagar en Mazatlan</td>\n",
       "      <td>mald29feb@gmail.com</td>\n",
       "      <td>openpay-api</td>\n",
       "      <td>$600.00</td>\n",
       "      <td>$677.00</td>\n",
       "      <td>Aprobada</td>\n",
       "      <td>NO</td>\n",
       "      <td>5025569.0</td>\n",
       "    </tr>\n",
       "  </tbody>\n",
       "</table>\n",
       "</div>"
      ],
      "text/plain": [
       "              fecha                       evento                   correo  \\\n",
       "0  30/09/2022 23:59        León vs Tijuana (2x1)  mike_leon19@hotmail.com   \n",
       "1  30/09/2022 23:59        León vs Tijuana (2x1)  mike_leon19@hotmail.com   \n",
       "2  30/09/2022 23:59        León vs Tijuana (2x1)  mike_leon19@hotmail.com   \n",
       "3  30/09/2022 23:58        León vs Tijuana (2x1)     castroaxl@icloud.com   \n",
       "4  30/09/2022 23:56  Jose Luis Zagar en Mazatlan      mald29feb@gmail.com   \n",
       "\n",
       "  tipo_de_pago subtotal    total   aprobada reembolsada     compra  \n",
       "0  openpay-api  $200.00  $234.00  Rechazada          NO        NaN  \n",
       "1  openpay-api  $200.00  $234.00  Rechazada          NO        NaN  \n",
       "2  openpay-api  $200.00  $234.00  Rechazada          NO        NaN  \n",
       "3   paypal-api  $400.00  $464.00   Aprobada          NO  5025570.0  \n",
       "4  openpay-api  $600.00  $677.00   Aprobada          NO  5025569.0  "
      ]
     },
     "execution_count": 14,
     "metadata": {},
     "output_type": "execute_result"
    }
   ],
   "source": [
    "bm.head()"
   ]
  },
  {
   "cell_type": "code",
   "execution_count": 12,
   "metadata": {
    "id": "19kmXR-1rvNZ"
   },
   "outputs": [],
   "source": [
    "bm.rename(columns={col: col.lower().replace(' ','_') for col in bm.columns.values}, inplace=True)"
   ]
  },
  {
   "cell_type": "code",
   "execution_count": 13,
   "metadata": {
    "colab": {
     "base_uri": "https://localhost:8080/"
    },
    "id": "HxhPlTbsrvNa",
    "outputId": "120219f9-b28d-46f7-8a2c-f6fecff56a1b"
   },
   "outputs": [
    {
     "data": {
      "text/plain": [
       "array(['fecha', 'evento', 'correo', 'tipo_de_pago', 'subtotal', 'total',\n",
       "       'aprobada', 'reembolsada', 'compra'], dtype=object)"
      ]
     },
     "execution_count": 13,
     "metadata": {},
     "output_type": "execute_result"
    }
   ],
   "source": [
    "bm.columns.values"
   ]
  },
  {
   "cell_type": "markdown",
   "metadata": {
    "id": "kJ3_YhAorvNa"
   },
   "source": [
    "¿Cuántas variables diferentes tienes en el dataset?"
   ]
  },
  {
   "cell_type": "code",
   "execution_count": 17,
   "metadata": {
    "colab": {
     "base_uri": "https://localhost:8080/"
    },
    "id": "o4OkHya9rvNb",
    "outputId": "17bbdaab-f424-4f5a-d63a-c7ff5eb6527a"
   },
   "outputs": [
    {
     "data": {
      "text/plain": [
       "9"
      ]
     },
     "execution_count": 17,
     "metadata": {},
     "output_type": "execute_result"
    }
   ],
   "source": [
    "len(bm.columns.values)"
   ]
  },
  {
   "cell_type": "markdown",
   "metadata": {
    "id": "dLi4VBFLrvNa"
   },
   "source": [
    "¿De qué a qué fecha tenemos registro?"
   ]
  },
  {
   "cell_type": "code",
   "execution_count": 16,
   "metadata": {
    "colab": {
     "base_uri": "https://localhost:8080/"
    },
    "id": "PqxTWKCyrvNa",
    "outputId": "0aee2487-bd8a-4882-bae2-26380881de1a"
   },
   "outputs": [
    {
     "data": {
      "text/plain": [
       "('01/09/2022 00:00', '30/09/2022 23:59')"
      ]
     },
     "execution_count": 16,
     "metadata": {},
     "output_type": "execute_result"
    }
   ],
   "source": [
    "(bm['fecha'].min(), bm['fecha'].max())"
   ]
  },
  {
   "cell_type": "markdown",
   "metadata": {
    "id": "t2156shQrvNb"
   },
   "source": [
    "¿De cuantos eventos diferentes hay registro? "
   ]
  },
  {
   "cell_type": "code",
   "execution_count": 18,
   "metadata": {
    "colab": {
     "base_uri": "https://localhost:8080/"
    },
    "id": "giEnD_w8rvNb",
    "outputId": "1f44b593-5a74-43dc-c628-b9dcd292a96c"
   },
   "outputs": [
    {
     "data": {
      "text/plain": [
       "415"
      ]
     },
     "execution_count": 18,
     "metadata": {},
     "output_type": "execute_result"
    }
   ],
   "source": [
    "bm.evento.nunique()"
   ]
  },
  {
   "cell_type": "code",
   "execution_count": null,
   "metadata": {},
   "outputs": [],
   "source": []
  },
  {
   "cell_type": "code",
   "execution_count": 23,
   "metadata": {},
   "outputs": [
    {
     "data": {
      "text/plain": [
       "array(['openpay-api', 'paypal-api', 'openpay-3ds', 'mercadopago',\n",
       "       'conekta-oxxo-pay', 'conekta-spei', 'bmpay', 'bitpay'],\n",
       "      dtype=object)"
      ]
     },
     "execution_count": 23,
     "metadata": {},
     "output_type": "execute_result"
    }
   ],
   "source": [
    "bm.tipo_de_pago.unique()"
   ]
  },
  {
   "cell_type": "markdown",
   "metadata": {
    "id": "-6HS0nKhrvNc"
   },
   "source": [
    "¿Cuántos establecimiento tienen violaciones? "
   ]
  },
  {
   "cell_type": "code",
   "execution_count": null,
   "metadata": {
    "colab": {
     "base_uri": "https://localhost:8080/"
    },
    "id": "AmXUM0jgrvNc",
    "outputId": "243bd217-2864-4bd7-b060-5c7200de8418"
   },
   "outputs": [
    {
     "data": {
      "text/plain": [
       "22215"
      ]
     },
     "execution_count": 14,
     "metadata": {},
     "output_type": "execute_result"
    }
   ],
   "source": [
    "food.violations.count()"
   ]
  },
  {
   "cell_type": "code",
   "execution_count": null,
   "metadata": {},
   "outputs": [],
   "source": []
  }
 ],
 "metadata": {
  "colab": {
   "collapsed_sections": [],
   "provenance": []
  },
  "kernelspec": {
   "display_name": "Python 3 (ipykernel)",
   "language": "python",
   "name": "python3"
  },
  "language_info": {
   "codemirror_mode": {
    "name": "ipython",
    "version": 3
   },
   "file_extension": ".py",
   "mimetype": "text/x-python",
   "name": "python",
   "nbconvert_exporter": "python",
   "pygments_lexer": "ipython3",
   "version": "3.9.12"
  }
 },
 "nbformat": 4,
 "nbformat_minor": 1
}
